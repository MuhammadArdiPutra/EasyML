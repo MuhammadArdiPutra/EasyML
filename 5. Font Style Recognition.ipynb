{
 "cells": [
  {
   "cell_type": "code",
   "execution_count": 1,
   "metadata": {
    "_cell_guid": "b1076dfc-b9ad-4769-8c92-a6c4dae69d19",
    "_uuid": "8f2839f25d086af736a60e9eeb907d3b93b6e0e5",
    "execution": {
     "iopub.execute_input": "2021-02-01T00:51:56.375222Z",
     "iopub.status.busy": "2021-02-01T00:51:56.374312Z",
     "iopub.status.idle": "2021-02-01T00:52:02.267745Z",
     "shell.execute_reply": "2021-02-01T00:52:02.268263Z"
    },
    "papermill": {
     "duration": 5.933501,
     "end_time": "2021-02-01T00:52:02.268619",
     "exception": false,
     "start_time": "2021-02-01T00:51:56.335118",
     "status": "completed"
    },
    "tags": []
   },
   "outputs": [],
   "source": [
    "import os\n",
    "import cv2\n",
    "import numpy as np\n",
    "import matplotlib.pyplot as plt\n",
    "import seaborn as sns\n",
    "from tqdm import tqdm\n",
    "from sklearn.model_selection import train_test_split\n",
    "from sklearn.preprocessing import OneHotEncoder\n",
    "from sklearn.metrics import confusion_matrix\n",
    "from keras.models import Sequential\n",
    "from keras.layers import Conv2D, MaxPool2D, Dense, Flatten"
   ]
  },
  {
   "cell_type": "code",
   "execution_count": 2,
   "metadata": {
    "execution": {
     "iopub.execute_input": "2021-02-01T00:52:02.316672Z",
     "iopub.status.busy": "2021-02-01T00:52:02.315946Z",
     "iopub.status.idle": "2021-02-01T00:52:02.317948Z",
     "shell.execute_reply": "2021-02-01T00:52:02.317297Z"
    },
    "papermill": {
     "duration": 0.029306,
     "end_time": "2021-02-01T00:52:02.318102",
     "exception": false,
     "start_time": "2021-02-01T00:52:02.288796",
     "status": "completed"
    },
    "tags": []
   },
   "outputs": [],
   "source": [
    "arial_path = '../input/font-recognition-data/Font Dataset Large/Arial'\n",
    "brandish_path = '../input/font-recognition-data/Font Dataset Large/Brandish'\n",
    "consolas_path = '../input/font-recognition-data/Font Dataset Large/Consolas'\n",
    "didot_path = '../input/font-recognition-data/Font Dataset Large/Didot'"
   ]
  },
  {
   "cell_type": "code",
   "execution_count": 3,
   "metadata": {
    "execution": {
     "iopub.execute_input": "2021-02-01T00:52:02.366721Z",
     "iopub.status.busy": "2021-02-01T00:52:02.366062Z",
     "iopub.status.idle": "2021-02-01T00:52:04.195521Z",
     "shell.execute_reply": "2021-02-01T00:52:04.194103Z"
    },
    "papermill": {
     "duration": 1.855318,
     "end_time": "2021-02-01T00:52:04.195656",
     "exception": false,
     "start_time": "2021-02-01T00:52:02.340338",
     "status": "completed"
    },
    "tags": []
   },
   "outputs": [],
   "source": [
    "arial_filenames = os.listdir(arial_path)\n",
    "brandish_filenames = os.listdir(brandish_path)\n",
    "consolas_filenames = os.listdir(consolas_path)\n",
    "didot_filenames = os.listdir(didot_path)"
   ]
  },
  {
   "cell_type": "code",
   "execution_count": 4,
   "metadata": {
    "execution": {
     "iopub.execute_input": "2021-02-01T00:52:04.233313Z",
     "iopub.status.busy": "2021-02-01T00:52:04.232637Z",
     "iopub.status.idle": "2021-02-01T00:52:04.236397Z",
     "shell.execute_reply": "2021-02-01T00:52:04.236806Z"
    },
    "papermill": {
     "duration": 0.026264,
     "end_time": "2021-02-01T00:52:04.236929",
     "exception": false,
     "start_time": "2021-02-01T00:52:04.210665",
     "status": "completed"
    },
    "tags": []
   },
   "outputs": [
    {
     "data": {
      "text/plain": [
       "['Image_4378.jpg',\n",
       " 'Image_747.jpg',\n",
       " 'Image_561.jpg',\n",
       " 'Image_345.jpg',\n",
       " 'Image_3019.jpg']"
      ]
     },
     "execution_count": 4,
     "metadata": {},
     "output_type": "execute_result"
    }
   ],
   "source": [
    "arial_filenames[:5]"
   ]
  },
  {
   "cell_type": "code",
   "execution_count": 5,
   "metadata": {
    "execution": {
     "iopub.execute_input": "2021-02-01T00:52:04.273111Z",
     "iopub.status.busy": "2021-02-01T00:52:04.271539Z",
     "iopub.status.idle": "2021-02-01T00:52:04.273745Z",
     "shell.execute_reply": "2021-02-01T00:52:04.274130Z"
    },
    "papermill": {
     "duration": 0.022027,
     "end_time": "2021-02-01T00:52:04.274254",
     "exception": false,
     "start_time": "2021-02-01T00:52:04.252227",
     "status": "completed"
    },
    "tags": []
   },
   "outputs": [],
   "source": [
    "def load_image(filenames, path):\n",
    "    images = []\n",
    "    for filename in tqdm(filenames):\n",
    "        image = cv2.imread(path+'/'+filename)\n",
    "        image = cv2.cvtColor(image, cv2.COLOR_BGR2GRAY)\n",
    "        images.append(image)\n",
    "    \n",
    "    return images"
   ]
  },
  {
   "cell_type": "code",
   "execution_count": 6,
   "metadata": {
    "execution": {
     "iopub.execute_input": "2021-02-01T00:52:04.310943Z",
     "iopub.status.busy": "2021-02-01T00:52:04.308534Z",
     "iopub.status.idle": "2021-02-01T00:54:43.674618Z",
     "shell.execute_reply": "2021-02-01T00:54:43.674155Z"
    },
    "papermill": {
     "duration": 159.385353,
     "end_time": "2021-02-01T00:54:43.674756",
     "exception": false,
     "start_time": "2021-02-01T00:52:04.289403",
     "status": "completed"
    },
    "tags": []
   },
   "outputs": [
    {
     "name": "stderr",
     "output_type": "stream",
     "text": [
      "100%|██████████| 5000/5000 [00:39<00:00, 127.64it/s]\n",
      "100%|██████████| 5000/5000 [00:39<00:00, 126.32it/s]\n",
      "100%|██████████| 5000/5000 [00:40<00:00, 122.53it/s]\n",
      "100%|██████████| 5000/5000 [00:39<00:00, 125.67it/s]\n"
     ]
    }
   ],
   "source": [
    "arial_images = load_image(arial_filenames, arial_path)\n",
    "brandish_images = load_image(brandish_filenames, brandish_path)\n",
    "consolas_images = load_image(consolas_filenames, consolas_path)\n",
    "didot_images = load_image(didot_filenames, didot_path)"
   ]
  },
  {
   "cell_type": "code",
   "execution_count": 7,
   "metadata": {
    "execution": {
     "iopub.execute_input": "2021-02-01T00:54:44.443022Z",
     "iopub.status.busy": "2021-02-01T00:54:44.442290Z",
     "iopub.status.idle": "2021-02-01T00:54:44.445909Z",
     "shell.execute_reply": "2021-02-01T00:54:44.447317Z"
    },
    "papermill": {
     "duration": 0.393492,
     "end_time": "2021-02-01T00:54:44.447486",
     "exception": false,
     "start_time": "2021-02-01T00:54:44.053994",
     "status": "completed"
    },
    "tags": []
   },
   "outputs": [
    {
     "name": "stdout",
     "output_type": "stream",
     "text": [
      "max_h: 32, min_h: 32\n",
      "max_w: 248, min_w: 30\n"
     ]
    }
   ],
   "source": [
    "heights = []\n",
    "widths = []\n",
    "for image in arial_images:\n",
    "    height = image.shape[0]\n",
    "    width = image.shape[1]\n",
    "    \n",
    "    heights.append(height)\n",
    "    widths.append(width)\n",
    "    \n",
    "print('max_h: {}, min_h: {}'.format(max(heights), min(heights)))\n",
    "print('max_w: {}, min_w: {}'.format(max(widths), min(widths)))"
   ]
  },
  {
   "cell_type": "code",
   "execution_count": 8,
   "metadata": {
    "execution": {
     "iopub.execute_input": "2021-02-01T00:54:45.212172Z",
     "iopub.status.busy": "2021-02-01T00:54:45.211663Z",
     "iopub.status.idle": "2021-02-01T00:54:45.215083Z",
     "shell.execute_reply": "2021-02-01T00:54:45.215479Z"
    },
    "papermill": {
     "duration": 0.388651,
     "end_time": "2021-02-01T00:54:45.215623",
     "exception": false,
     "start_time": "2021-02-01T00:54:44.826972",
     "status": "completed"
    },
    "tags": []
   },
   "outputs": [],
   "source": [
    "def take_80_pixels(images_list):\n",
    "    new_images = []\n",
    "    for image in images_list:\n",
    "        if image.shape[1] >= 80:\n",
    "            new_images.append(image[:,:80])\n",
    "        else:\n",
    "            pass\n",
    "        \n",
    "    return np.array(new_images)"
   ]
  },
  {
   "cell_type": "code",
   "execution_count": 9,
   "metadata": {
    "execution": {
     "iopub.execute_input": "2021-02-01T00:54:45.981596Z",
     "iopub.status.busy": "2021-02-01T00:54:45.980603Z",
     "iopub.status.idle": "2021-02-01T00:54:46.022115Z",
     "shell.execute_reply": "2021-02-01T00:54:46.021668Z"
    },
    "papermill": {
     "duration": 0.426663,
     "end_time": "2021-02-01T00:54:46.022245",
     "exception": false,
     "start_time": "2021-02-01T00:54:45.595582",
     "status": "completed"
    },
    "tags": []
   },
   "outputs": [],
   "source": [
    "arial_80 = take_80_pixels(arial_images)\n",
    "brandish_80 = take_80_pixels(brandish_images)\n",
    "consolas_80 = take_80_pixels(consolas_images)\n",
    "didot_80 = take_80_pixels(didot_images)"
   ]
  },
  {
   "cell_type": "code",
   "execution_count": 10,
   "metadata": {
    "execution": {
     "iopub.execute_input": "2021-02-01T00:54:46.986776Z",
     "iopub.status.busy": "2021-02-01T00:54:46.983863Z",
     "iopub.status.idle": "2021-02-01T00:54:46.989382Z",
     "shell.execute_reply": "2021-02-01T00:54:46.988731Z"
    },
    "papermill": {
     "duration": 0.58758,
     "end_time": "2021-02-01T00:54:46.989552",
     "exception": false,
     "start_time": "2021-02-01T00:54:46.401972",
     "status": "completed"
    },
    "tags": []
   },
   "outputs": [
    {
     "name": "stdout",
     "output_type": "stream",
     "text": [
      "(4079, 32, 80)\n",
      "(4028, 32, 80)\n",
      "(4741, 32, 80)\n",
      "(3920, 32, 80)\n"
     ]
    }
   ],
   "source": [
    "print(arial_80.shape)\n",
    "print(brandish_80.shape)\n",
    "print(consolas_80.shape)\n",
    "print(didot_80.shape)"
   ]
  },
  {
   "cell_type": "code",
   "execution_count": 11,
   "metadata": {
    "execution": {
     "iopub.execute_input": "2021-02-01T00:54:48.020313Z",
     "iopub.status.busy": "2021-02-01T00:54:48.019129Z",
     "iopub.status.idle": "2021-02-01T00:54:48.053611Z",
     "shell.execute_reply": "2021-02-01T00:54:48.054020Z"
    },
    "papermill": {
     "duration": 0.482689,
     "end_time": "2021-02-01T00:54:48.054164",
     "exception": false,
     "start_time": "2021-02-01T00:54:47.571475",
     "status": "completed"
    },
    "tags": []
   },
   "outputs": [
    {
     "data": {
      "text/plain": [
       "(16768, 32, 80)"
      ]
     },
     "execution_count": 11,
     "metadata": {},
     "output_type": "execute_result"
    }
   ],
   "source": [
    "all_images = np.append(arial_80, brandish_80, axis=0)\n",
    "all_images = np.append(all_images, consolas_80, axis=0)\n",
    "all_images = np.append(all_images, didot_80, axis=0)\n",
    "all_images.shape"
   ]
  },
  {
   "cell_type": "code",
   "execution_count": 12,
   "metadata": {
    "execution": {
     "iopub.execute_input": "2021-02-01T00:54:48.857989Z",
     "iopub.status.busy": "2021-02-01T00:54:48.857152Z",
     "iopub.status.idle": "2021-02-01T00:54:48.860543Z",
     "shell.execute_reply": "2021-02-01T00:54:48.861053Z"
    },
    "papermill": {
     "duration": 0.390403,
     "end_time": "2021-02-01T00:54:48.861192",
     "exception": false,
     "start_time": "2021-02-01T00:54:48.470789",
     "status": "completed"
    },
    "tags": []
   },
   "outputs": [
    {
     "data": {
      "text/plain": [
       "(16768, 32, 80, 1)"
      ]
     },
     "execution_count": 12,
     "metadata": {},
     "output_type": "execute_result"
    }
   ],
   "source": [
    "all_images = all_images.reshape(all_images.shape[0], \n",
    "                                all_images.shape[1], \n",
    "                                all_images.shape[2], \n",
    "                                1)\n",
    "all_images.shape"
   ]
  },
  {
   "cell_type": "code",
   "execution_count": 13,
   "metadata": {
    "execution": {
     "iopub.execute_input": "2021-02-01T00:54:49.654891Z",
     "iopub.status.busy": "2021-02-01T00:54:49.654123Z",
     "iopub.status.idle": "2021-02-01T00:54:49.657303Z",
     "shell.execute_reply": "2021-02-01T00:54:49.657693Z"
    },
    "papermill": {
     "duration": 0.415159,
     "end_time": "2021-02-01T00:54:49.657912",
     "exception": false,
     "start_time": "2021-02-01T00:54:49.242753",
     "status": "completed"
    },
    "tags": []
   },
   "outputs": [
    {
     "data": {
      "text/plain": [
       "16768"
      ]
     },
     "execution_count": 13,
     "metadata": {},
     "output_type": "execute_result"
    }
   ],
   "source": [
    "labels = [0]*len(arial_80) + \\\n",
    "         [1]*len(brandish_80) + \\\n",
    "         [2]*len(consolas_80) + \\\n",
    "         [3]*len(didot_80)\n",
    "\n",
    "len(labels)"
   ]
  },
  {
   "cell_type": "code",
   "execution_count": 14,
   "metadata": {
    "execution": {
     "iopub.execute_input": "2021-02-01T00:54:50.427868Z",
     "iopub.status.busy": "2021-02-01T00:54:50.426729Z",
     "iopub.status.idle": "2021-02-01T00:54:50.451376Z",
     "shell.execute_reply": "2021-02-01T00:54:50.450951Z"
    },
    "papermill": {
     "duration": 0.412219,
     "end_time": "2021-02-01T00:54:50.451520",
     "exception": false,
     "start_time": "2021-02-01T00:54:50.039301",
     "status": "completed"
    },
    "tags": []
   },
   "outputs": [],
   "source": [
    "X_train, X_test, y_train, y_test = train_test_split(all_images, \n",
    "                                                    labels, \n",
    "                                                    test_size=0.3, \n",
    "                                                    random_state=88)\n",
    "\n",
    "y_train = np.array(y_train)\n",
    "y_test = np.array(y_test)"
   ]
  },
  {
   "cell_type": "code",
   "execution_count": 15,
   "metadata": {
    "execution": {
     "iopub.execute_input": "2021-02-01T00:54:51.224206Z",
     "iopub.status.busy": "2021-02-01T00:54:51.223509Z",
     "iopub.status.idle": "2021-02-01T00:54:51.227220Z",
     "shell.execute_reply": "2021-02-01T00:54:51.226786Z"
    },
    "papermill": {
     "duration": 0.393549,
     "end_time": "2021-02-01T00:54:51.227368",
     "exception": false,
     "start_time": "2021-02-01T00:54:50.833819",
     "status": "completed"
    },
    "tags": []
   },
   "outputs": [
    {
     "data": {
      "text/plain": [
       "array([1, 3, 0, ..., 0, 0, 1])"
      ]
     },
     "execution_count": 15,
     "metadata": {},
     "output_type": "execute_result"
    }
   ],
   "source": [
    "y_train"
   ]
  },
  {
   "cell_type": "code",
   "execution_count": 16,
   "metadata": {
    "execution": {
     "iopub.execute_input": "2021-02-01T00:54:51.997988Z",
     "iopub.status.busy": "2021-02-01T00:54:51.997273Z",
     "iopub.status.idle": "2021-02-01T00:54:51.999676Z",
     "shell.execute_reply": "2021-02-01T00:54:52.000157Z"
    },
    "papermill": {
     "duration": 0.390578,
     "end_time": "2021-02-01T00:54:52.000301",
     "exception": false,
     "start_time": "2021-02-01T00:54:51.609723",
     "status": "completed"
    },
    "tags": []
   },
   "outputs": [],
   "source": [
    "y_train = y_train[:,np.newaxis]\n",
    "y_test = y_test[:,np.newaxis]"
   ]
  },
  {
   "cell_type": "code",
   "execution_count": 17,
   "metadata": {
    "execution": {
     "iopub.execute_input": "2021-02-01T00:54:52.794210Z",
     "iopub.status.busy": "2021-02-01T00:54:52.793471Z",
     "iopub.status.idle": "2021-02-01T00:54:52.797016Z",
     "shell.execute_reply": "2021-02-01T00:54:52.796564Z"
    },
    "papermill": {
     "duration": 0.394367,
     "end_time": "2021-02-01T00:54:52.797129",
     "exception": false,
     "start_time": "2021-02-01T00:54:52.402762",
     "status": "completed"
    },
    "tags": []
   },
   "outputs": [
    {
     "data": {
      "text/plain": [
       "array([[1],\n",
       "       [3],\n",
       "       [0],\n",
       "       ...,\n",
       "       [0],\n",
       "       [0],\n",
       "       [1]])"
      ]
     },
     "execution_count": 17,
     "metadata": {},
     "output_type": "execute_result"
    }
   ],
   "source": [
    "y_train"
   ]
  },
  {
   "cell_type": "code",
   "execution_count": 18,
   "metadata": {
    "execution": {
     "iopub.execute_input": "2021-02-01T00:54:53.565128Z",
     "iopub.status.busy": "2021-02-01T00:54:53.564190Z",
     "iopub.status.idle": "2021-02-01T00:54:53.569765Z",
     "shell.execute_reply": "2021-02-01T00:54:53.569237Z"
    },
    "papermill": {
     "duration": 0.391278,
     "end_time": "2021-02-01T00:54:53.569874",
     "exception": false,
     "start_time": "2021-02-01T00:54:53.178596",
     "status": "completed"
    },
    "tags": []
   },
   "outputs": [],
   "source": [
    "one_hot_encoder = OneHotEncoder(sparse=False)\n",
    "y_train_encoded = one_hot_encoder.fit_transform(y_train)\n",
    "y_test_encoded = one_hot_encoder.transform(y_test)"
   ]
  },
  {
   "cell_type": "code",
   "execution_count": 19,
   "metadata": {
    "execution": {
     "iopub.execute_input": "2021-02-01T00:54:54.342134Z",
     "iopub.status.busy": "2021-02-01T00:54:54.341352Z",
     "iopub.status.idle": "2021-02-01T00:54:54.346204Z",
     "shell.execute_reply": "2021-02-01T00:54:54.345584Z"
    },
    "papermill": {
     "duration": 0.39308,
     "end_time": "2021-02-01T00:54:54.346380",
     "exception": false,
     "start_time": "2021-02-01T00:54:53.953300",
     "status": "completed"
    },
    "tags": []
   },
   "outputs": [
    {
     "name": "stdout",
     "output_type": "stream",
     "text": [
      "[[1]\n",
      " [3]\n",
      " [0]\n",
      " [3]\n",
      " [3]]\n"
     ]
    }
   ],
   "source": [
    "print(y_train[:5])"
   ]
  },
  {
   "cell_type": "code",
   "execution_count": 20,
   "metadata": {
    "execution": {
     "iopub.execute_input": "2021-02-01T00:54:55.117480Z",
     "iopub.status.busy": "2021-02-01T00:54:55.116700Z",
     "iopub.status.idle": "2021-02-01T00:54:55.120963Z",
     "shell.execute_reply": "2021-02-01T00:54:55.120492Z"
    },
    "papermill": {
     "duration": 0.390961,
     "end_time": "2021-02-01T00:54:55.121077",
     "exception": false,
     "start_time": "2021-02-01T00:54:54.730116",
     "status": "completed"
    },
    "tags": []
   },
   "outputs": [
    {
     "name": "stdout",
     "output_type": "stream",
     "text": [
      "[[0. 1. 0. 0.]\n",
      " [0. 0. 0. 1.]\n",
      " [1. 0. 0. 0.]\n",
      " [0. 0. 0. 1.]\n",
      " [0. 0. 0. 1.]]\n"
     ]
    }
   ],
   "source": [
    "print(y_train_encoded[:5])"
   ]
  },
  {
   "cell_type": "code",
   "execution_count": 21,
   "metadata": {
    "execution": {
     "iopub.execute_input": "2021-02-01T00:54:55.889372Z",
     "iopub.status.busy": "2021-02-01T00:54:55.888557Z",
     "iopub.status.idle": "2021-02-01T00:54:55.891524Z",
     "shell.execute_reply": "2021-02-01T00:54:55.890964Z"
    },
    "papermill": {
     "duration": 0.388776,
     "end_time": "2021-02-01T00:54:55.891643",
     "exception": false,
     "start_time": "2021-02-01T00:54:55.502867",
     "status": "completed"
    },
    "tags": []
   },
   "outputs": [],
   "source": [
    "input_shape = (all_images.shape[1], \n",
    "               all_images.shape[2], \n",
    "               1)"
   ]
  },
  {
   "cell_type": "code",
   "execution_count": 22,
   "metadata": {
    "execution": {
     "iopub.execute_input": "2021-02-01T00:54:56.663491Z",
     "iopub.status.busy": "2021-02-01T00:54:56.662967Z",
     "iopub.status.idle": "2021-02-01T00:54:59.600180Z",
     "shell.execute_reply": "2021-02-01T00:54:59.599711Z"
    },
    "papermill": {
     "duration": 3.327025,
     "end_time": "2021-02-01T00:54:59.600308",
     "exception": false,
     "start_time": "2021-02-01T00:54:56.273283",
     "status": "completed"
    },
    "tags": []
   },
   "outputs": [],
   "source": [
    "model = Sequential()\n",
    "model.add(Conv2D(32, kernel_size=(3,3), activation='relu', \n",
    "                 padding='same', input_shape=input_shape))\n",
    "model.add(Conv2D(64, kernel_size=(3,3), activation='relu'))\n",
    "model.add(MaxPool2D(2, 2))\n",
    "model.add(Flatten())\n",
    "model.add(Dense(100, activation='relu'))\n",
    "model.add(Dense(50, activation='relu'))\n",
    "model.add(Dense(4, activation='softmax'))"
   ]
  },
  {
   "cell_type": "code",
   "execution_count": 23,
   "metadata": {
    "execution": {
     "iopub.execute_input": "2021-02-01T00:55:00.374243Z",
     "iopub.status.busy": "2021-02-01T00:55:00.371548Z",
     "iopub.status.idle": "2021-02-01T00:55:00.379144Z",
     "shell.execute_reply": "2021-02-01T00:55:00.378456Z"
    },
    "papermill": {
     "duration": 0.396643,
     "end_time": "2021-02-01T00:55:00.379348",
     "exception": false,
     "start_time": "2021-02-01T00:54:59.982705",
     "status": "completed"
    },
    "tags": []
   },
   "outputs": [
    {
     "name": "stdout",
     "output_type": "stream",
     "text": [
      "Model: \"sequential\"\n",
      "_________________________________________________________________\n",
      "Layer (type)                 Output Shape              Param #   \n",
      "=================================================================\n",
      "conv2d (Conv2D)              (None, 32, 80, 32)        320       \n",
      "_________________________________________________________________\n",
      "conv2d_1 (Conv2D)            (None, 30, 78, 64)        18496     \n",
      "_________________________________________________________________\n",
      "max_pooling2d (MaxPooling2D) (None, 15, 39, 64)        0         \n",
      "_________________________________________________________________\n",
      "flatten (Flatten)            (None, 37440)             0         \n",
      "_________________________________________________________________\n",
      "dense (Dense)                (None, 100)               3744100   \n",
      "_________________________________________________________________\n",
      "dense_1 (Dense)              (None, 50)                5050      \n",
      "_________________________________________________________________\n",
      "dense_2 (Dense)              (None, 4)                 204       \n",
      "=================================================================\n",
      "Total params: 3,768,170\n",
      "Trainable params: 3,768,170\n",
      "Non-trainable params: 0\n",
      "_________________________________________________________________\n"
     ]
    }
   ],
   "source": [
    "model.summary()"
   ]
  },
  {
   "cell_type": "code",
   "execution_count": 24,
   "metadata": {
    "execution": {
     "iopub.execute_input": "2021-02-01T00:55:01.160754Z",
     "iopub.status.busy": "2021-02-01T00:55:01.160110Z",
     "iopub.status.idle": "2021-02-01T00:55:01.167125Z",
     "shell.execute_reply": "2021-02-01T00:55:01.166697Z"
    },
    "papermill": {
     "duration": 0.404366,
     "end_time": "2021-02-01T00:55:01.167230",
     "exception": false,
     "start_time": "2021-02-01T00:55:00.762864",
     "status": "completed"
    },
    "tags": []
   },
   "outputs": [],
   "source": [
    "model.compile(loss='categorical_crossentropy', \n",
    "              optimizer='adam', metrics=['acc'])"
   ]
  },
  {
   "cell_type": "code",
   "execution_count": 25,
   "metadata": {
    "execution": {
     "iopub.execute_input": "2021-02-01T00:55:01.938562Z",
     "iopub.status.busy": "2021-02-01T00:55:01.938023Z",
     "iopub.status.idle": "2021-02-01T00:55:12.978621Z",
     "shell.execute_reply": "2021-02-01T00:55:12.977159Z"
    },
    "papermill": {
     "duration": 11.428362,
     "end_time": "2021-02-01T00:55:12.978753",
     "exception": false,
     "start_time": "2021-02-01T00:55:01.550391",
     "status": "completed"
    },
    "tags": []
   },
   "outputs": [
    {
     "name": "stdout",
     "output_type": "stream",
     "text": [
      "Epoch 1/3\n",
      "367/367 [==============================] - 6s 8ms/step - loss: 15.8977 - acc: 0.8829 - val_loss: 0.0939 - val_acc: 0.9932\n",
      "Epoch 2/3\n",
      "367/367 [==============================] - 2s 7ms/step - loss: 0.0170 - acc: 0.9974 - val_loss: 0.0118 - val_acc: 0.9988\n",
      "Epoch 3/3\n",
      "367/367 [==============================] - 2s 6ms/step - loss: 5.4518e-05 - acc: 1.0000 - val_loss: 0.0106 - val_acc: 0.9992\n"
     ]
    }
   ],
   "source": [
    "history = model.fit(X_train, y_train_encoded, \n",
    "                    epochs=3, \n",
    "                    validation_data=(X_test,y_test_encoded))"
   ]
  },
  {
   "cell_type": "code",
   "execution_count": 26,
   "metadata": {
    "execution": {
     "iopub.execute_input": "2021-02-01T00:55:13.813727Z",
     "iopub.status.busy": "2021-02-01T00:55:13.812528Z",
     "iopub.status.idle": "2021-02-01T00:55:14.095545Z",
     "shell.execute_reply": "2021-02-01T00:55:14.094583Z"
    },
    "papermill": {
     "duration": 0.703538,
     "end_time": "2021-02-01T00:55:14.095681",
     "exception": false,
     "start_time": "2021-02-01T00:55:13.392143",
     "status": "completed"
    },
    "tags": []
   },
   "outputs": [
    {
     "data": {
      "text/plain": [
       "array([1, 3, 3, ..., 1, 1, 2])"
      ]
     },
     "execution_count": 26,
     "metadata": {},
     "output_type": "execute_result"
    }
   ],
   "source": [
    "predictions = model.predict(X_test)\n",
    "predictions = np.argmax(predictions, axis=1)\n",
    "predictions"
   ]
  },
  {
   "cell_type": "code",
   "execution_count": 27,
   "metadata": {
    "execution": {
     "iopub.execute_input": "2021-02-01T00:55:14.950581Z",
     "iopub.status.busy": "2021-02-01T00:55:14.949796Z",
     "iopub.status.idle": "2021-02-01T00:55:14.953307Z",
     "shell.execute_reply": "2021-02-01T00:55:14.953733Z"
    },
    "papermill": {
     "duration": 0.442102,
     "end_time": "2021-02-01T00:55:14.953870",
     "exception": false,
     "start_time": "2021-02-01T00:55:14.511768",
     "status": "completed"
    },
    "tags": []
   },
   "outputs": [
    {
     "data": {
      "text/plain": [
       "array([1, 3, 3, ..., 1, 1, 2])"
      ]
     },
     "execution_count": 27,
     "metadata": {},
     "output_type": "execute_result"
    }
   ],
   "source": [
    "y_test = y_test.reshape(y_test.shape[0])\n",
    "y_test"
   ]
  },
  {
   "cell_type": "code",
   "execution_count": 28,
   "metadata": {
    "execution": {
     "iopub.execute_input": "2021-02-01T00:55:15.832563Z",
     "iopub.status.busy": "2021-02-01T00:55:15.832000Z",
     "iopub.status.idle": "2021-02-01T00:55:16.144178Z",
     "shell.execute_reply": "2021-02-01T00:55:16.143766Z"
    },
    "papermill": {
     "duration": 0.773905,
     "end_time": "2021-02-01T00:55:16.144312",
     "exception": false,
     "start_time": "2021-02-01T00:55:15.370407",
     "status": "completed"
    },
    "tags": []
   },
   "outputs": [
    {
     "data": {
      "text/plain": [
       "<AxesSubplot:>"
      ]
     },
     "execution_count": 28,
     "metadata": {},
     "output_type": "execute_result"
    },
    {
     "data": {
      "image/png": "[encoded data removed]",
      "text/plain": [
       "<Figure size 432x432 with 1 Axes>"
      ]
     },
     "metadata": {
      "needs_background": "light"
     },
     "output_type": "display_data"
    }
   ],
   "source": [
    "cm = confusion_matrix(y_test, predictions)\n",
    "\n",
    "label_names = ['arial', 'brandish', 'consolas', 'didot']\n",
    "\n",
    "plt.figure(figsize=(6,6))\n",
    "sns.heatmap(cm, annot=True, fmt='d', cbar=False,\n",
    "            xticklabels=label_names, yticklabels=label_names, \n",
    "            cmap=plt.cm.Blues)"
   ]
  },
  {
   "cell_type": "code",
   "execution_count": 29,
   "metadata": {
    "execution": {
     "iopub.execute_input": "2021-02-01T00:55:16.988685Z",
     "iopub.status.busy": "2021-02-01T00:55:16.988027Z",
     "iopub.status.idle": "2021-02-01T00:55:16.993089Z",
     "shell.execute_reply": "2021-02-01T00:55:16.992481Z"
    },
    "papermill": {
     "duration": 0.433447,
     "end_time": "2021-02-01T00:55:16.993234",
     "exception": false,
     "start_time": "2021-02-01T00:55:16.559787",
     "status": "completed"
    },
    "tags": []
   },
   "outputs": [
    {
     "name": "stdout",
     "output_type": "stream",
     "text": [
      "[357, 1180, 1553, 3913]\n"
     ]
    }
   ],
   "source": [
    "misses = []\n",
    "for i in range(len(predictions)):\n",
    "    if y_test[i] != predictions[i]:\n",
    "        misses.append(i)\n",
    "        \n",
    "print(misses)"
   ]
  },
  {
   "cell_type": "code",
   "execution_count": 30,
   "metadata": {
    "execution": {
     "iopub.execute_input": "2021-02-01T00:55:17.847184Z",
     "iopub.status.busy": "2021-02-01T00:55:17.846280Z",
     "iopub.status.idle": "2021-02-01T00:55:17.952499Z",
     "shell.execute_reply": "2021-02-01T00:55:17.952908Z"
    },
    "papermill": {
     "duration": 0.543998,
     "end_time": "2021-02-01T00:55:17.953047",
     "exception": false,
     "start_time": "2021-02-01T00:55:17.409049",
     "status": "completed"
    },
    "tags": []
   },
   "outputs": [
    {
     "data": {
      "image/png": "[encoded data removed]",
      "text/plain": [
       "<Figure size 864x216 with 2 Axes>"
      ]
     },
     "metadata": {
      "needs_background": "light"
     },
     "output_type": "display_data"
    }
   ],
   "source": [
    "fig, axes = plt.subplots(ncols=2, sharex=False, figsize=(12, 3))\n",
    "\n",
    "for i, miss in zip(range(2), misses):\n",
    "    axes[i].set_title('actual: {}\\npredicted: {}'\n",
    "                      .format(str(label_names[y_test[miss]]), \n",
    "                              str(label_names[predictions[miss]])))\n",
    "    axes[i].imshow(X_test[miss], cmap='gray')\n",
    "    axes[i].get_xaxis().set_visible(False)\n",
    "    axes[i].get_yaxis().set_visible(False)\n",
    "plt.show()"
   ]
  }
 ],
 "metadata": {
  "kernelspec": {
   "display_name": "Python 3",
   "language": "python",
   "name": "python3"
  },
  "language_info": {
   "codemirror_mode": {
    "name": "ipython",
    "version": 3
   },
   "file_extension": ".py",
   "mimetype": "text/x-python",
   "name": "python",
   "nbconvert_exporter": "python",
   "pygments_lexer": "ipython3",
   "version": "3.7.9"
  },
  "papermill": {
   "default_parameters": {},
   "duration": 209.897517,
   "end_time": "2021-02-01T00:55:21.588840",
   "environment_variables": {},
   "exception": null,
   "input_path": "__notebook__.ipynb",
   "output_path": "__notebook__.ipynb",
   "parameters": {},
   "start_time": "2021-02-01T00:51:51.691323",
   "version": "2.2.2"
  }
 },
 "nbformat": 4,
 "nbformat_minor": 4
}
